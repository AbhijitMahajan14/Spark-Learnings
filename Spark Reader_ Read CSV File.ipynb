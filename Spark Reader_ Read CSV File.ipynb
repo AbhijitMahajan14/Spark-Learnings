{
 "cells": [
  {
   "cell_type": "code",
   "execution_count": 0,
   "metadata": {
    "application/vnd.databricks.v1+cell": {
     "cellMetadata": {
      "byteLimit": 2048000,
      "rowLimit": 10000
     },
     "inputWidgets": {},
     "nuid": "4a62382b-86ae-403b-9587-7c60e9261b2d",
     "showTitle": false,
     "title": ""
    }
   },
   "outputs": [
    {
     "output_type": "stream",
     "name": "stdout",
     "output_type": "stream",
     "text": [
      "Out[2]: [FileInfo(path='dbfs:/FileStore/tables/sample_data.csv', name='sample_data.csv', size=156, modificationTime=1729717938000)]"
     ]
    }
   ],
   "source": [
    "dbutils.fs.ls('FileStore/tables/')"
   ]
  },
  {
   "cell_type": "code",
   "execution_count": 0,
   "metadata": {
    "application/vnd.databricks.v1+cell": {
     "cellMetadata": {
      "byteLimit": 2048000,
      "rowLimit": 10000
     },
     "inputWidgets": {},
     "nuid": "4c490303-5123-4fd2-b82e-53192b00c82c",
     "showTitle": false,
     "title": ""
    }
   },
   "outputs": [
    {
     "output_type": "display_data",
     "data": {
      "text/html": [
       "<style scoped>\n",
       "  .table-result-container {\n",
       "    max-height: 300px;\n",
       "    overflow: auto;\n",
       "  }\n",
       "  table, th, td {\n",
       "    border: 1px solid black;\n",
       "    border-collapse: collapse;\n",
       "  }\n",
       "  th, td {\n",
       "    padding: 5px;\n",
       "  }\n",
       "  th {\n",
       "    text-align: left;\n",
       "  }\n",
       "</style><div class='table-result-container'><table class='table-result'><thead style='background-color: white'><tr><th>ID</th><th>Name</th><th>Age</th><th>City</th><th>GCP_Certified</th></tr></thead><tbody><tr><td>1</td><td>Alice</td><td>25</td><td>New York</td><td>true</td></tr><tr><td>2</td><td>Bob</td><td>30</td><td>Los Angeles</td><td>false</td></tr><tr><td>3</td><td>Charlie</td><td>35</td><td>Chicago</td><td>true</td></tr><tr><td>4</td><td>David</td><td>28</td><td>Houston</td><td>false</td></tr><tr><td>5</td><td>Eva</td><td>22</td><td>Phoenix</td><td>true</td></tr></tbody></table></div>"
      ]
     },
     "metadata": {
      "application/vnd.databricks.v1+output": {
       "addedWidgets": {},
       "aggData": [],
       "aggError": "",
       "aggOverflow": false,
       "aggSchema": [],
       "aggSeriesLimitReached": false,
       "aggType": "",
       "arguments": {},
       "columnCustomDisplayInfos": {},
       "data": [
        [
         1,
         "Alice",
         25,
         "New York",
         true
        ],
        [
         2,
         "Bob",
         30,
         "Los Angeles",
         false
        ],
        [
         3,
         "Charlie",
         35,
         "Chicago",
         true
        ],
        [
         4,
         "David",
         28,
         "Houston",
         false
        ],
        [
         5,
         "Eva",
         22,
         "Phoenix",
         true
        ]
       ],
       "datasetInfos": [],
       "dbfsResultPath": null,
       "isJsonSchema": true,
       "metadata": {},
       "overflow": false,
       "plotOptions": {
        "customPlotOptions": {},
        "displayType": "table",
        "pivotAggregation": null,
        "pivotColumns": null,
        "xColumns": null,
        "yColumns": null
       },
       "removedWidgets": [],
       "schema": [
        {
         "metadata": "{}",
         "name": "ID",
         "type": "\"integer\""
        },
        {
         "metadata": "{}",
         "name": "Name",
         "type": "\"string\""
        },
        {
         "metadata": "{}",
         "name": "Age",
         "type": "\"integer\""
        },
        {
         "metadata": "{}",
         "name": "City",
         "type": "\"string\""
        },
        {
         "metadata": "{}",
         "name": "GCP_Certified",
         "type": "\"boolean\""
        }
       ],
       "type": "table"
      }
     },
     "output_type": "display_data"
    },
    {
     "output_type": "stream",
     "name": "stdout",
     "output_type": "stream",
     "text": [
      "5\n"
     ]
    }
   ],
   "source": [
    "df= spark.read.format(\"csv\").option(\"inferSchema\",True).option(\"header\",True).option(\"sep\",\",\").load(\"/FileStore/tables/sample_data.csv\")\n",
    "display(df)\n",
    "print(df.count())"
   ]
  },
  {
   "cell_type": "code",
   "execution_count": 0,
   "metadata": {
    "application/vnd.databricks.v1+cell": {
     "cellMetadata": {
      "byteLimit": 2048000,
      "rowLimit": 10000
     },
     "inputWidgets": {},
     "nuid": "b1f034cc-b2ec-485f-a566-12ad74157898",
     "showTitle": false,
     "title": ""
    }
   },
   "outputs": [
    {
     "output_type": "display_data",
     "data": {
      "text/html": [
       "<style scoped>\n",
       "  .table-result-container {\n",
       "    max-height: 300px;\n",
       "    overflow: auto;\n",
       "  }\n",
       "  table, th, td {\n",
       "    border: 1px solid black;\n",
       "    border-collapse: collapse;\n",
       "  }\n",
       "  th, td {\n",
       "    padding: 5px;\n",
       "  }\n",
       "  th {\n",
       "    text-align: left;\n",
       "  }\n",
       "</style><div class='table-result-container'><table class='table-result'><thead style='background-color: white'><tr><th>ID</th><th>Name</th><th>AGE</th><th>City</th><th>GCP_Certified</th></tr></thead><tbody><tr><td>1</td><td>Alice</td><td>25</td><td>New York</td><td>True</td></tr><tr><td>2</td><td>Bob</td><td>30</td><td>Los Angeles</td><td>False</td></tr><tr><td>3</td><td>Charlie</td><td>35</td><td>Chicago</td><td>True</td></tr><tr><td>4</td><td>David</td><td>28</td><td>Houston</td><td>False</td></tr><tr><td>5</td><td>Eva</td><td>22</td><td>Phoenix</td><td>True</td></tr></tbody></table></div>"
      ]
     },
     "metadata": {
      "application/vnd.databricks.v1+output": {
       "addedWidgets": {},
       "aggData": [],
       "aggError": "",
       "aggOverflow": false,
       "aggSchema": [],
       "aggSeriesLimitReached": false,
       "aggType": "",
       "arguments": {},
       "columnCustomDisplayInfos": {},
       "data": [
        [
         1,
         "Alice",
         25,
         "New York",
         "True"
        ],
        [
         2,
         "Bob",
         30,
         "Los Angeles",
         "False"
        ],
        [
         3,
         "Charlie",
         35,
         "Chicago",
         "True"
        ],
        [
         4,
         "David",
         28,
         "Houston",
         "False"
        ],
        [
         5,
         "Eva",
         22,
         "Phoenix",
         "True"
        ]
       ],
       "datasetInfos": [],
       "dbfsResultPath": null,
       "isJsonSchema": true,
       "metadata": {},
       "overflow": false,
       "plotOptions": {
        "customPlotOptions": {},
        "displayType": "table",
        "pivotAggregation": null,
        "pivotColumns": null,
        "xColumns": null,
        "yColumns": null
       },
       "removedWidgets": [],
       "schema": [
        {
         "metadata": "{}",
         "name": "ID",
         "type": "\"integer\""
        },
        {
         "metadata": "{}",
         "name": "Name",
         "type": "\"string\""
        },
        {
         "metadata": "{}",
         "name": "AGE",
         "type": "\"integer\""
        },
        {
         "metadata": "{}",
         "name": "City",
         "type": "\"string\""
        },
        {
         "metadata": "{}",
         "name": "GCP_Certified",
         "type": "\"string\""
        }
       ],
       "type": "table"
      }
     },
     "output_type": "display_data"
    },
    {
     "output_type": "stream",
     "name": "stdout",
     "output_type": "stream",
     "text": [
      "5\n"
     ]
    }
   ],
   "source": [
    "alternate_schema=\"ID INTEGER, Name STRING, AGE INTEGER, City STRING,GCP_Certified STRING\"\n",
    "df= spark.read.format(\"csv\").schema(alternate_schema).option(\"header\",True).option(\"sep\",\",\").load(\"/FileStore/tables/sample_data.csv\")\n",
    "display(df)\n",
    "print(df.count())"
   ]
  },
  {
   "cell_type": "code",
   "execution_count": 0,
   "metadata": {
    "application/vnd.databricks.v1+cell": {
     "cellMetadata": {
      "byteLimit": 2048000,
      "rowLimit": 10000
     },
     "inputWidgets": {},
     "nuid": "b8dafcc0-14e1-4046-b8a4-6dca8d6ed9c8",
     "showTitle": false,
     "title": ""
    }
   },
   "outputs": [],
   "source": []
  }
 ],
 "metadata": {
  "application/vnd.databricks.v1+notebook": {
   "dashboards": [],
   "environmentMetadata": null,
   "language": "python",
   "notebookMetadata": {
    "pythonIndentUnit": 4
   },
   "notebookName": "Spark Reader: Read CSV File",
   "widgets": {}
  }
 },
 "nbformat": 4,
 "nbformat_minor": 0
}
