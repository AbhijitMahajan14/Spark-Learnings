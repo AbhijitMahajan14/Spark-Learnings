{
 "cells": [
  {
   "cell_type": "code",
   "execution_count": 0,
   "metadata": {
    "application/vnd.databricks.v1+cell": {
     "cellMetadata": {
      "byteLimit": 2048000,
      "rowLimit": 10000
     },
     "inputWidgets": {},
     "nuid": "b9e3f931-bf27-444f-a588-c722128f7b6b",
     "showTitle": false,
     "title": ""
    }
   },
   "outputs": [
    {
     "output_type": "stream",
     "name": "stdout",
     "output_type": "stream",
     "text": [
      "+---+-------+-----+\n| id|   name|score|\n+---+-------+-----+\n|  1|  Alice|  100|\n|  2|    Bob|  200|\n|  3|Charlie|  150|\n+---+-------+-----+\n\n+-------------+\n|score_squared|\n+-------------+\n|      10000.0|\n|      40000.0|\n|      22500.0|\n+-------------+\n\n"
     ]
    }
   ],
   "source": [
    "from pyspark.sql import SparkSession\n",
    "from pyspark.sql import functions as F\n",
    "\n",
    "# Initialize Spark session\n",
    "spark = SparkSession.builder.appName(\"Data Manipulation Example\").getOrCreate()\n",
    "\n",
    "# Sample DataFrame\n",
    "data = [\n",
    "    (1, \"Alice\", 100),\n",
    "    (2, \"Bob\", 200),\n",
    "    (3, \"Charlie\", 150),\n",
    "]\n",
    "\n",
    "columns = [\"id\", \"name\", \"score\"]\n",
    "df = spark.createDataFrame(data, columns)\n",
    "\n",
    "# Show original DataFrame\n",
    "df.show()\n",
    "\n",
    "# Create a new column 'score_squared' by squaring the 'score' column\n",
    "df_with_new_column = df.withColumn(\"score_squared\", F.col(\"score\") ** 2)\n",
    "\n",
    "df_with_new_column.select(\"score_squared\").show()\n",
    "\n"
   ]
  },
  {
   "cell_type": "code",
   "execution_count": 0,
   "metadata": {
    "application/vnd.databricks.v1+cell": {
     "cellMetadata": {
      "byteLimit": 2048000,
      "rowLimit": 10000
     },
     "inputWidgets": {},
     "nuid": "0bfc0f2a-19a2-4d47-9c2e-b241eff6b39c",
     "showTitle": false,
     "title": ""
    }
   },
   "outputs": [
    {
     "output_type": "stream",
     "name": "stdout",
     "output_type": "stream",
     "text": [
      "+---+-------+-----+----------------+\n| id|   name|score|score_with_bonus|\n+---+-------+-----+----------------+\n|  1|  Alice|  100|           110.0|\n|  2|    Bob|  200|           220.0|\n|  3|Charlie|  150|           165.0|\n+---+-------+-----+----------------+\n\n"
     ]
    }
   ],
   "source": [
    "# Use selectExpr to create a new column 'score_with_bonus'\n",
    "df_with_bonus = df.selectExpr(\"id\", \"name\", \"score\", \"score * 1.1 as score_with_bonus\")\n",
    "\n",
    "# Show modified DataFrame\n",
    "df_with_bonus.show()\n"
   ]
  },
  {
   "cell_type": "code",
   "execution_count": 0,
   "metadata": {
    "application/vnd.databricks.v1+cell": {
     "cellMetadata": {
      "byteLimit": 2048000,
      "rowLimit": 10000
     },
     "inputWidgets": {},
     "nuid": "109cd0de-2a2b-4558-a2a1-ab4a83a22c0a",
     "showTitle": false,
     "title": ""
    }
   },
   "outputs": [
    {
     "output_type": "stream",
     "name": "stdout",
     "output_type": "stream",
     "text": [
      "+---+-------+-----+-----+\n| id|   name|score|group|\n+---+-------+-----+-----+\n|  1|  Alice|  100|    A|\n|  2|    Bob|  200|    B|\n|  3|Charlie|  150|    A|\n|  4|  David|  300|    B|\n|  5|    Eve|  200|    A|\n+---+-------+-----+-----+\n\n+-----+---------+-----------+-----+\n|group|avg_score|total_score|count|\n+-----+---------+-----------+-----+\n|    A|    150.0|        450|    3|\n|    B|    250.0|        500|    2|\n+-----+---------+-----------+-----+\n\n"
     ]
    }
   ],
   "source": [
    "# Sample DataFrame with additional data for aggregation\n",
    "data = [\n",
    "    (1, \"Alice\", 100, \"A\"),\n",
    "    (2, \"Bob\", 200, \"B\"),\n",
    "    (3, \"Charlie\", 150, \"A\"),\n",
    "    (4, \"David\", 300, \"B\"),\n",
    "    (5, \"Eve\", 200, \"A\")\n",
    "]\n",
    "\n",
    "columns = [\"id\", \"name\", \"score\", \"group\"]\n",
    "df = spark.createDataFrame(data, columns)\n",
    "\n",
    "# Show original DataFrame\n",
    "df.show()\n",
    "\n",
    "# Group by 'group' and calculate the average score\n",
    "df_grouped = df.groupBy(\"group\").agg(\n",
    "    F.avg(\"score\").alias(\"avg_score\"),\n",
    "    F.sum(\"score\").alias(\"total_score\"),\n",
    "    F.count(\"id\").alias(\"count\")\n",
    ")\n",
    "\n",
    "# Show the aggregated DataFrame\n",
    "df_grouped.show()\n"
   ]
  },
  {
   "cell_type": "code",
   "execution_count": 0,
   "metadata": {
    "application/vnd.databricks.v1+cell": {
     "cellMetadata": {},
     "inputWidgets": {},
     "nuid": "4f6f95ad-86e7-4a96-9fd6-f6b36b0222e9",
     "showTitle": false,
     "title": ""
    }
   },
   "outputs": [],
   "source": []
  }
 ],
 "metadata": {
  "application/vnd.databricks.v1+notebook": {
   "dashboards": [],
   "environmentMetadata": null,
   "language": "python",
   "notebookMetadata": {
    "pythonIndentUnit": 4
   },
   "notebookName": "Data Manipulation",
   "widgets": {}
  }
 },
 "nbformat": 4,
 "nbformat_minor": 0
}
