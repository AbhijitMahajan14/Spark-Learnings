{
 "cells": [
  {
   "cell_type": "code",
   "execution_count": 0,
   "metadata": {
    "application/vnd.databricks.v1+cell": {
     "cellMetadata": {
      "byteLimit": 2048000,
      "rowLimit": 10000
     },
     "inputWidgets": {},
     "nuid": "df6a706f-5401-423b-b0b0-0e19f42a170a",
     "showTitle": false,
     "title": ""
    }
   },
   "outputs": [
    {
     "output_type": "stream",
     "name": "stdout",
     "output_type": "stream",
     "text": [
      "+---+-------+-----+\n| id|   name|score|\n+---+-------+-----+\n|  1|  Alice|  100|\n|  2|    Bob|  200|\n|  3|Charlie|  100|\n|  4|  David|  300|\n|  5|    Eve|  200|\n|  5|    Eve|  200|\n+---+-------+-----+\n\n"
     ]
    }
   ],
   "source": [
    "data = [\n",
    "    (1, \"Alice\", 100),\n",
    "    (2, \"Bob\", 200),\n",
    "    (3, \"Charlie\", 100),\n",
    "    (4, \"David\", 300),\n",
    "    (5, \"Eve\", 200),\n",
    "    (5, \"Eve\", 200)\n",
    "]\n",
    "\n",
    "columns = [\"id\", \"name\", \"score\"]\n",
    "\n",
    "df=spark.createDataFrame(data,columns)\n",
    "df.show()"
   ]
  },
  {
   "cell_type": "code",
   "execution_count": 0,
   "metadata": {
    "application/vnd.databricks.v1+cell": {
     "cellMetadata": {
      "byteLimit": 2048000,
      "rowLimit": 10000
     },
     "inputWidgets": {},
     "nuid": "bc3a5419-1dc5-4993-a896-7fb9610988d5",
     "showTitle": false,
     "title": ""
    }
   },
   "outputs": [
    {
     "output_type": "stream",
     "name": "stdout",
     "output_type": "stream",
     "text": [
      "+---+-------+-----+----------+\n| id|   name|score|row_number|\n+---+-------+-----+----------+\n|  1|  Alice|  100|         1|\n|  3|Charlie|  100|         2|\n|  2|    Bob|  200|         1|\n|  5|    Eve|  200|         2|\n|  5|    Eve|  200|         3|\n|  4|  David|  300|         1|\n+---+-------+-----+----------+\n\n"
     ]
    }
   ],
   "source": [
    "from pyspark.sql.window import Window\n",
    "from pyspark.sql import functions as F\n",
    "\n",
    "\n",
    "windowed_df=Window.partitionBy(\"score\").orderBy(\"id\")\n",
    "numbered_df=df.withColumn(\"row_number\",F.row_number().over(windowed_df))\n",
    "numbered_df.show()\n",
    "\n"
   ]
  },
  {
   "cell_type": "code",
   "execution_count": 0,
   "metadata": {
    "application/vnd.databricks.v1+cell": {
     "cellMetadata": {
      "byteLimit": 2048000,
      "rowLimit": 10000
     },
     "inputWidgets": {},
     "nuid": "93b8f3e4-b648-4554-80ba-4de4ae3ac6cc",
     "showTitle": false,
     "title": ""
    }
   },
   "outputs": [
    {
     "output_type": "stream",
     "name": "stdout",
     "output_type": "stream",
     "text": [
      "+---+-------+-----+----------+\n| id|   name|score|row_number|\n+---+-------+-----+----------+\n|  1|  Alice|  100|         1|\n|  3|Charlie|  100|         2|\n|  2|    Bob|  200|         1|\n|  5|    Eve|  200|         2|\n|  5|    Eve|  200|         2|\n|  4|  David|  300|         1|\n+---+-------+-----+----------+\n\n"
     ]
    }
   ],
   "source": [
    "\n",
    "from pyspark.sql.window import Window\n",
    "from pyspark.sql import functions as F\n",
    "\n",
    "\n",
    "windowed_df=Window.partitionBy(\"score\").orderBy(\"id\")\n",
    "numbered_df=df.withColumn(\"row_number\",F.rank().over(windowed_df))\n",
    "numbered_df.show()\n",
    "\n"
   ]
  },
  {
   "cell_type": "code",
   "execution_count": 0,
   "metadata": {
    "application/vnd.databricks.v1+cell": {
     "cellMetadata": {
      "byteLimit": 2048000,
      "rowLimit": 10000
     },
     "inputWidgets": {},
     "nuid": "5e7b754c-3c64-4f48-bdb4-80d3aa0125cc",
     "showTitle": false,
     "title": ""
    }
   },
   "outputs": [
    {
     "output_type": "stream",
     "name": "stdout",
     "output_type": "stream",
     "text": [
      "+---+-------+-----+----------+\n| id|   name|score|row_number|\n+---+-------+-----+----------+\n|  1|  Alice|  100|         1|\n|  3|Charlie|  100|         2|\n|  2|    Bob|  200|         1|\n|  5|    Eve|  200|         2|\n|  5|    Eve|  200|         2|\n|  4|  David|  300|         1|\n+---+-------+-----+----------+\n\n"
     ]
    }
   ],
   "source": [
    "\n",
    "from pyspark.sql.window import Window\n",
    "from pyspark.sql import functions as F\n",
    "\n",
    "\n",
    "windowed_df=Window.partitionBy(\"score\").orderBy(\"id\")\n",
    "numbered_df=df.withColumn(\"row_number\",F.dense_rank().over(windowed_df))\n",
    "numbered_df.show()\n",
    "\n"
   ]
  },
  {
   "cell_type": "code",
   "execution_count": 0,
   "metadata": {
    "application/vnd.databricks.v1+cell": {
     "cellMetadata": {},
     "inputWidgets": {},
     "nuid": "1613925d-df3d-41df-b706-647767a9d8f1",
     "showTitle": false,
     "title": ""
    }
   },
   "outputs": [],
   "source": []
  }
 ],
 "metadata": {
  "application/vnd.databricks.v1+notebook": {
   "dashboards": [],
   "environmentMetadata": null,
   "language": "python",
   "notebookMetadata": {
    "pythonIndentUnit": 4
   },
   "notebookName": "Window Functions",
   "widgets": {}
  }
 },
 "nbformat": 4,
 "nbformat_minor": 0
}
