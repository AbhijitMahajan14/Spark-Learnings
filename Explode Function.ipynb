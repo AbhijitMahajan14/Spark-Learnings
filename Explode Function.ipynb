{
 "cells": [
  {
   "cell_type": "code",
   "execution_count": 0,
   "metadata": {
    "application/vnd.databricks.v1+cell": {
     "cellMetadata": {
      "byteLimit": 2048000,
      "rowLimit": 10000
     },
     "inputWidgets": {},
     "nuid": "2eeab8a5-a7fb-4b70-8326-c86db4f38f48",
     "showTitle": false,
     "title": ""
    }
   },
   "outputs": [
    {
     "output_type": "stream",
     "name": "stdout",
     "output_type": "stream",
     "text": [
      "Out[13]: DataFrame[Name: string, Scores: map<string,bigint>]"
     ]
    }
   ],
   "source": [
    "data_array = [(\"Alice\", [1, 2, 3]), \n",
    "        (\"Bob\", [4, 5]), \n",
    "        (\"Catherine\", [])]\n",
    "columns_array  = [\"Name\", \"Scores\"]\n",
    "\n",
    "data_map= [(\"Alice\", {\"Math\": 85, \"Science\": 90}), \n",
    "        (\"Bob\", {\"Math\": 78}),(\"Man\", {})]\n",
    "columns_map = [\"Name\", \"Scores\"]\n",
    "\n",
    "df_array = spark.createDataFrame(data_array, columns_array)\n",
    "\n",
    "df_map = spark.createDataFrame(data_map, columns_map)\n",
    "\n",
    "df_array\n",
    "df_map\n"
   ]
  },
  {
   "cell_type": "code",
   "execution_count": 0,
   "metadata": {
    "application/vnd.databricks.v1+cell": {
     "cellMetadata": {
      "byteLimit": 2048000,
      "rowLimit": 10000
     },
     "inputWidgets": {},
     "nuid": "7c53e079-19a9-4931-b986-bea5a9dbbb87",
     "showTitle": false,
     "title": ""
    }
   },
   "outputs": [
    {
     "output_type": "stream",
     "name": "stdout",
     "output_type": "stream",
     "text": [
      "+-----+-----+\n| Name|Score|\n+-----+-----+\n|Alice|    1|\n|Alice|    2|\n|Alice|    3|\n|  Bob|    4|\n|  Bob|    5|\n+-----+-----+\n\n"
     ]
    }
   ],
   "source": [
    "from pyspark.sql.functions import explode,explode_outer\n",
    "df_array.select(\"Name\", explode(\"Scores\").alias(\"Score\")).show()\n"
   ]
  },
  {
   "cell_type": "code",
   "execution_count": 0,
   "metadata": {
    "application/vnd.databricks.v1+cell": {
     "cellMetadata": {
      "byteLimit": 2048000,
      "rowLimit": 10000
     },
     "inputWidgets": {},
     "nuid": "2042d73d-38e3-408d-b05d-823787940fdf",
     "showTitle": false,
     "title": ""
    }
   },
   "outputs": [
    {
     "output_type": "stream",
     "name": "stdout",
     "output_type": "stream",
     "text": [
      "+-----+-------+-----+\n| Name|    key|value|\n+-----+-------+-----+\n|Alice|Science|   90|\n|Alice|   Math|   85|\n|  Bob|   Math|   78|\n+-----+-------+-----+\n\n"
     ]
    }
   ],
   "source": [
    "df_map.select(\"Name\", explode(\"Scores\")).show()"
   ]
  },
  {
   "cell_type": "code",
   "execution_count": 0,
   "metadata": {
    "application/vnd.databricks.v1+cell": {
     "cellMetadata": {
      "byteLimit": 2048000,
      "rowLimit": 10000
     },
     "inputWidgets": {},
     "nuid": "d24c2deb-2e45-450f-8c13-7585f642d1f1",
     "showTitle": false,
     "title": ""
    }
   },
   "outputs": [
    {
     "output_type": "stream",
     "name": "stdout",
     "output_type": "stream",
     "text": [
      "+---------+-----+\n|     Name|Score|\n+---------+-----+\n|    Alice|    1|\n|    Alice|    2|\n|    Alice|    3|\n|      Bob|    4|\n|      Bob|    5|\n|Catherine| null|\n+---------+-----+\n\n"
     ]
    }
   ],
   "source": [
    "df_array.select(\"Name\", explode_outer(\"Scores\").alias(\"Score\")).show()"
   ]
  },
  {
   "cell_type": "code",
   "execution_count": 0,
   "metadata": {
    "application/vnd.databricks.v1+cell": {
     "cellMetadata": {
      "byteLimit": 2048000,
      "rowLimit": 10000
     },
     "inputWidgets": {},
     "nuid": "35f9177a-8212-4f6c-9d2d-66243227fe9d",
     "showTitle": false,
     "title": ""
    }
   },
   "outputs": [
    {
     "output_type": "stream",
     "name": "stdout",
     "output_type": "stream",
     "text": [
      "+-----+-------+-----+\n| Name|    key|value|\n+-----+-------+-----+\n|Alice|Science|   90|\n|Alice|   Math|   85|\n|  Bob|   Math|   78|\n|  Man|   null| null|\n+-----+-------+-----+\n\n"
     ]
    }
   ],
   "source": [
    "df_map.select(\"Name\", explode_outer(\"Scores\")).show()"
   ]
  },
  {
   "cell_type": "code",
   "execution_count": 0,
   "metadata": {
    "application/vnd.databricks.v1+cell": {
     "cellMetadata": {
      "byteLimit": 2048000,
      "rowLimit": 10000
     },
     "inputWidgets": {},
     "nuid": "030edddf-76a3-4795-8701-611976074c93",
     "showTitle": false,
     "title": ""
    }
   },
   "outputs": [],
   "source": [
    "from pyspark.sql.functions import posexplode,posexplode_outer"
   ]
  },
  {
   "cell_type": "code",
   "execution_count": 0,
   "metadata": {
    "application/vnd.databricks.v1+cell": {
     "cellMetadata": {
      "byteLimit": 2048000,
      "rowLimit": 10000
     },
     "inputWidgets": {},
     "nuid": "e5799be7-815a-4e8c-b145-57c83b172de3",
     "showTitle": false,
     "title": ""
    }
   },
   "outputs": [
    {
     "output_type": "stream",
     "name": "stdout",
     "output_type": "stream",
     "text": [
      "+-----+---+-------+-----+\n| Name|pos|    key|value|\n+-----+---+-------+-----+\n|Alice|  0|Science|   90|\n|Alice|  1|   Math|   85|\n|  Bob|  0|   Math|   78|\n+-----+---+-------+-----+\n\n"
     ]
    }
   ],
   "source": [
    "df_map.select(\"Name\", posexplode(\"Scores\")).show()"
   ]
  },
  {
   "cell_type": "code",
   "execution_count": 0,
   "metadata": {
    "application/vnd.databricks.v1+cell": {
     "cellMetadata": {
      "byteLimit": 2048000,
      "rowLimit": 10000
     },
     "inputWidgets": {},
     "nuid": "e06992c2-8c7e-4677-ba5c-5e3e2246a7d1",
     "showTitle": false,
     "title": ""
    }
   },
   "outputs": [
    {
     "output_type": "stream",
     "name": "stdout",
     "output_type": "stream",
     "text": [
      "+-----+---+---+\n| Name|pos|col|\n+-----+---+---+\n|Alice|  0|  1|\n|Alice|  1|  2|\n|Alice|  2|  3|\n|  Bob|  0|  4|\n|  Bob|  1|  5|\n+-----+---+---+\n\n"
     ]
    }
   ],
   "source": [
    "df_array.select(\"Name\", posexplode(\"Scores\")).show()"
   ]
  },
  {
   "cell_type": "code",
   "execution_count": 0,
   "metadata": {
    "application/vnd.databricks.v1+cell": {
     "cellMetadata": {
      "byteLimit": 2048000,
      "rowLimit": 10000
     },
     "inputWidgets": {},
     "nuid": "61e838b5-006b-49dc-aaae-6ba1777efa26",
     "showTitle": false,
     "title": ""
    }
   },
   "outputs": [
    {
     "output_type": "stream",
     "name": "stdout",
     "output_type": "stream",
     "text": [
      "+---------+----+----+\n|     Name| pos| col|\n+---------+----+----+\n|    Alice|   0|   1|\n|    Alice|   1|   2|\n|    Alice|   2|   3|\n|      Bob|   0|   4|\n|      Bob|   1|   5|\n|Catherine|null|null|\n+---------+----+----+\n\n+-----+----+-------+-----+\n| Name| pos|    key|value|\n+-----+----+-------+-----+\n|Alice|   0|Science|   90|\n|Alice|   1|   Math|   85|\n|  Bob|   0|   Math|   78|\n|  Man|null|   null| null|\n+-----+----+-------+-----+\n\n"
     ]
    }
   ],
   "source": [
    "df_array.select(\"Name\", posexplode_outer(\"Scores\")).show()\n",
    "df_map.select(\"Name\", posexplode_outer(\"Scores\")).show()"
   ]
  },
  {
   "cell_type": "code",
   "execution_count": 0,
   "metadata": {
    "application/vnd.databricks.v1+cell": {
     "cellMetadata": {},
     "inputWidgets": {},
     "nuid": "d2908cfa-90d7-41a5-8dcb-56ee936a6018",
     "showTitle": false,
     "title": ""
    }
   },
   "outputs": [],
   "source": [
    "`"
   ]
  }
 ],
 "metadata": {
  "application/vnd.databricks.v1+notebook": {
   "dashboards": [],
   "environmentMetadata": null,
   "language": "python",
   "notebookMetadata": {
    "pythonIndentUnit": 4
   },
   "notebookName": "Explode Function",
   "widgets": {}
  }
 },
 "nbformat": 4,
 "nbformat_minor": 0
}
