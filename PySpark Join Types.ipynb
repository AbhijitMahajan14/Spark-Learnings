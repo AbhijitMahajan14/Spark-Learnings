{
 "cells": [
  {
   "cell_type": "code",
   "execution_count": 0,
   "metadata": {
    "application/vnd.databricks.v1+cell": {
     "cellMetadata": {
      "byteLimit": 2048000,
      "rowLimit": 10000
     },
     "inputWidgets": {},
     "nuid": "48c5a31b-af24-47a0-9f50-9e24654d93d8",
     "showTitle": false,
     "title": ""
    }
   },
   "outputs": [],
   "source": [
    "data1 = [(\"101\", \"Alice\", \"HR\"), \n",
    "         (\"102\", \"Bob\", \"Finance\"), \n",
    "         (\"103\", \"Catherine\", \"IT\")]\n",
    "columns1 = [\"EmpID\", \"Name\", \"Dept\"]\n",
    "emp_df=spark.createDataFrame(data1,columns1)"
   ]
  },
  {
   "cell_type": "code",
   "execution_count": 0,
   "metadata": {
    "application/vnd.databricks.v1+cell": {
     "cellMetadata": {
      "byteLimit": 2048000,
      "rowLimit": 10000
     },
     "inputWidgets": {},
     "nuid": "dd1cd44b-cba4-44ff-8ea8-7ec0502b6e88",
     "showTitle": false,
     "title": ""
    }
   },
   "outputs": [],
   "source": [
    "data2 = [(\"HR\", \"Human Resources\"), \n",
    "         (\"Finance\", \"Finance Department\"), \n",
    "         (\"IT\", \"IT Department\")]\n",
    "columns2 = [\"Dept\", \"Dept_Name\"]\n",
    "dept_df=spark.createDataFrame(data2,columns2)"
   ]
  },
  {
   "cell_type": "code",
   "execution_count": 0,
   "metadata": {
    "application/vnd.databricks.v1+cell": {
     "cellMetadata": {
      "byteLimit": 2048000,
      "rowLimit": 10000
     },
     "inputWidgets": {},
     "nuid": "7b780167-ae8d-458d-90cf-8e4131affa90",
     "showTitle": false,
     "title": ""
    }
   },
   "outputs": [
    {
     "output_type": "stream",
     "name": "stdout",
     "output_type": "stream",
     "text": [
      "+-----+---------+-------+-------+------------------+\n|EmpID|     Name|   Dept|   Dept|         Dept_Name|\n+-----+---------+-------+-------+------------------+\n|  102|      Bob|Finance|Finance|Finance Department|\n|  101|    Alice|     HR|     HR|   Human Resources|\n|  103|Catherine|     IT|     IT|     IT Department|\n+-----+---------+-------+-------+------------------+\n\n"
     ]
    }
   ],
   "source": [
    "emp_df.join(dept_df,emp_df.Dept==dept_df.Dept,\"inner\").show()"
   ]
  },
  {
   "cell_type": "code",
   "execution_count": 0,
   "metadata": {
    "application/vnd.databricks.v1+cell": {
     "cellMetadata": {
      "byteLimit": 2048000,
      "rowLimit": 10000
     },
     "inputWidgets": {},
     "nuid": "a739fe20-258d-42a0-bf22-96dfcff48a6b",
     "showTitle": false,
     "title": ""
    }
   },
   "outputs": [
    {
     "output_type": "stream",
     "name": "stdout",
     "output_type": "stream",
     "text": [
      "+-----+---------+-------+-------+------------------+\n|EmpID|     Name|   Dept|   Dept|         Dept_Name|\n+-----+---------+-------+-------+------------------+\n|  102|      Bob|Finance|Finance|Finance Department|\n|  101|    Alice|     HR|     HR|   Human Resources|\n|  103|Catherine|     IT|     IT|     IT Department|\n+-----+---------+-------+-------+------------------+\n\n"
     ]
    }
   ],
   "source": [
    "emp_df.join(dept_df,emp_df.Dept==dept_df.Dept,\"full\").show()"
   ]
  },
  {
   "cell_type": "code",
   "execution_count": 0,
   "metadata": {
    "application/vnd.databricks.v1+cell": {
     "cellMetadata": {
      "byteLimit": 2048000,
      "rowLimit": 10000
     },
     "inputWidgets": {},
     "nuid": "e102ba69-421b-4f5a-a879-bed736973b95",
     "showTitle": false,
     "title": ""
    }
   },
   "outputs": [
    {
     "output_type": "stream",
     "name": "stdout",
     "output_type": "stream",
     "text": [
      "+-----+---------+-------+-------+------------------+\n|EmpID|     Name|   Dept|   Dept|         Dept_Name|\n+-----+---------+-------+-------+------------------+\n|  101|    Alice|     HR|     HR|   Human Resources|\n|  102|      Bob|Finance|Finance|Finance Department|\n|  103|Catherine|     IT|     IT|     IT Department|\n+-----+---------+-------+-------+------------------+\n\n"
     ]
    }
   ],
   "source": [
    "emp_df.join(dept_df,emp_df.Dept==dept_df.Dept,\"left_outer\").show()"
   ]
  },
  {
   "cell_type": "code",
   "execution_count": 0,
   "metadata": {
    "application/vnd.databricks.v1+cell": {
     "cellMetadata": {
      "byteLimit": 2048000,
      "rowLimit": 10000
     },
     "inputWidgets": {},
     "nuid": "d7c5a4bb-0ace-4c23-ad82-800da6237310",
     "showTitle": false,
     "title": ""
    }
   },
   "outputs": [
    {
     "output_type": "stream",
     "name": "stdout",
     "output_type": "stream",
     "text": [
      "+-----+---------+-------+-------+------------------+\n|EmpID|     Name|   Dept|   Dept|         Dept_Name|\n+-----+---------+-------+-------+------------------+\n|  101|    Alice|     HR|     HR|   Human Resources|\n|  102|      Bob|Finance|Finance|Finance Department|\n|  103|Catherine|     IT|     IT|     IT Department|\n+-----+---------+-------+-------+------------------+\n\n"
     ]
    }
   ],
   "source": [
    "emp_df.join(dept_df,emp_df.Dept==dept_df.Dept,\"right_outer\").show()"
   ]
  },
  {
   "cell_type": "code",
   "execution_count": 0,
   "metadata": {
    "application/vnd.databricks.v1+cell": {
     "cellMetadata": {
      "byteLimit": 2048000,
      "rowLimit": 10000
     },
     "inputWidgets": {},
     "nuid": "660f5008-93cf-417c-b34d-98a1556bb265",
     "showTitle": false,
     "title": ""
    }
   },
   "outputs": [
    {
     "output_type": "stream",
     "name": "stdout",
     "output_type": "stream",
     "text": [
      "+-----+---------+-------+\n|EmpID|     Name|   Dept|\n+-----+---------+-------+\n|  102|      Bob|Finance|\n|  101|    Alice|     HR|\n|  103|Catherine|     IT|\n+-----+---------+-------+\n\n"
     ]
    }
   ],
   "source": [
    "emp_df.join(dept_df,emp_df.Dept==dept_df.Dept,\"semi\").show()"
   ]
  },
  {
   "cell_type": "code",
   "execution_count": 0,
   "metadata": {
    "application/vnd.databricks.v1+cell": {
     "cellMetadata": {
      "byteLimit": 2048000,
      "rowLimit": 10000
     },
     "inputWidgets": {},
     "nuid": "2bf9f82c-883c-4626-8d08-86352158b1fe",
     "showTitle": false,
     "title": ""
    }
   },
   "outputs": [
    {
     "output_type": "stream",
     "name": "stdout",
     "output_type": "stream",
     "text": [
      "+-----+----+----+\n|EmpID|Name|Dept|\n+-----+----+----+\n+-----+----+----+\n\n"
     ]
    }
   ],
   "source": [
    "emp_df.join(dept_df,emp_df.Dept==dept_df.Dept,\"anti\").show()"
   ]
  },
  {
   "cell_type": "code",
   "execution_count": 0,
   "metadata": {
    "application/vnd.databricks.v1+cell": {
     "cellMetadata": {},
     "inputWidgets": {},
     "nuid": "860f21a4-42a7-4fb7-94c9-ca016cb7cdea",
     "showTitle": false,
     "title": ""
    }
   },
   "outputs": [],
   "source": []
  }
 ],
 "metadata": {
  "application/vnd.databricks.v1+notebook": {
   "dashboards": [],
   "environmentMetadata": null,
   "language": "python",
   "notebookMetadata": {
    "pythonIndentUnit": 4
   },
   "notebookName": "PySpark Join Types",
   "widgets": {}
  }
 },
 "nbformat": 4,
 "nbformat_minor": 0
}
